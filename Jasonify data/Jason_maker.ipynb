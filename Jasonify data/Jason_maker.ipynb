{
 "cells": [
  {
   "cell_type": "code",
   "execution_count": 34,
   "id": "bb295dc3-d348-4599-9f83-74de8aedcaa2",
   "metadata": {},
   "outputs": [],
   "source": [
    "from pathlib import Path\n",
    "import pandas as pd\n",
    "import pprint\n",
    "import os"
   ]
  },
  {
   "cell_type": "code",
   "execution_count": 35,
   "id": "caff02f6-6b27-4e5b-b818-a4a9db42d3e1",
   "metadata": {},
   "outputs": [],
   "source": [
    "# List of rain stations\n",
    "rain_stations = ['509704', '509573','509398','509452','509417','509460','509583','509702','509593','509574','W0034613','509703','509458','509459','509451']"
   ]
  },
  {
   "cell_type": "code",
   "execution_count": 36,
   "id": "c5809d02-8f99-478b-aa8d-65e796388a13",
   "metadata": {},
   "outputs": [],
   "source": [
    "all_data_dict = {}\n",
    "for rain_station in rain_stations:\n",
    "    # Read the CSV file for the current rain station into a DataFrame\n",
    "    csv_rain_station = Path(f\"../Resources/rain/{rain_station}.csv\")\n",
    "    rain_station_df = pd.read_csv(csv_rain_station, low_memory=False)\n",
    "    r_station_df = rain_station_df.transpose()\n",
    "    \n",
    "    # Read the stations CSV file into a DataFrame\n",
    "    csv_stations = Path(\"../Resources/stations.csv\")\n",
    "    stations_df = pd.read_csv(csv_stations, low_memory=False)\n",
    "    \n",
    "\n",
    "    # Filter rows based on the 'Site No.' column for the current rain station\n",
    "    filtered_row = stations_df[stations_df['Site No.'] == rain_station]\n",
    "\n",
    "    # Create a dictionary with the desired structure for the current rain station\n",
    "    data_dict = {\n",
    "        str(rain_station): {\n",
    "            \"Date\": r_station_df.iloc[0].tolist(),\n",
    "            \"Rain\": r_station_df.iloc[1].tolist(),\n",
    "            \"Quality\": r_station_df.iloc[2].tolist(),\n",
    "            \"lat\": filtered_row['Lat'].values[0],\n",
    "            \"lon\": filtered_row['Long'].values[0],\n",
    "            \"address\": filtered_row['Address'].values[0]\n",
    "        }\n",
    "    }\n",
    "\n",
    "    # Update the all_data_dict with data for the current rain station\n",
    "    all_data_dict.update(data_dict)"
   ]
  },
  {
   "cell_type": "code",
   "execution_count": 37,
   "id": "40330c6e-9e4e-4965-9ac9-03fab61cf357",
   "metadata": {},
   "outputs": [],
   "source": [
    "# Convert the all_data_dict to a DataFrame\n",
    "all_result_df = pd.DataFrame.from_dict(all_data_dict, orient='index')\n",
    "\n",
    "# Save the DataFrame to a JSON file\n",
    "all_result_df.to_json('../Output/all_rain_stations.json', orient='index', indent=2)"
   ]
  },
  {
   "cell_type": "code",
   "execution_count": 38,
   "id": "3da1b413-7a21-47ac-b2bc-c8c895ab6430",
   "metadata": {},
   "outputs": [],
   "source": [
    "# List of stream stations\n",
    "stream_stations = ['616042','616043','616047','616015','616045','616046','616044']"
   ]
  },
  {
   "cell_type": "code",
   "execution_count": 39,
   "id": "6092f0b0-d99f-4614-8f7d-71b3aa196d6b",
   "metadata": {},
   "outputs": [],
   "source": [
    "all_data_dict = {}\n",
    "for stream_station in stream_stations:\n",
    "    # Read the CSV file for the current stream station into a DataFrame\n",
    "    csv_stream_station = Path(f\"../Resources/stream/{stream_station}.csv\")\n",
    "    stream_station_df = pd.read_csv(csv_stream_station, low_memory=False)\n",
    "    r_station_df = stream_station_df.transpose()\n",
    "    \n",
    "    # Read the stations CSV file into a DataFrame\n",
    "    csv_stations = Path(\"../Resources/stations.csv\")\n",
    "    stations_df = pd.read_csv(csv_stations, low_memory=False)\n",
    "    \n",
    "\n",
    "    # Filter rows based on the 'Site No.' column for the current stream station\n",
    "    filtered_row = stations_df[stations_df['Site No.'] == stream_station]\n",
    "\n",
    "    # Create a dictionary with the desired structure for the current stream station\n",
    "    data_dict = {\n",
    "        str(stream_station): {\n",
    "            \"Date\": r_station_df.iloc[0].tolist(),\n",
    "            \"stream\": r_station_df.iloc[1].tolist(),\n",
    "            \"Quality\": r_station_df.iloc[2].tolist(),\n",
    "            \"lat\": filtered_row['Lat'].values[0],\n",
    "            \"lon\": filtered_row['Long'].values[0],\n",
    "            \"address\": filtered_row['Address'].values[0]\n",
    "        }\n",
    "    }\n",
    "\n",
    "    # Update the all_data_dict with data for the current stream station\n",
    "    all_data_dict.update(data_dict)"
   ]
  },
  {
   "cell_type": "code",
   "execution_count": 40,
   "id": "47d6368e-e696-421a-b977-283bd6154361",
   "metadata": {},
   "outputs": [],
   "source": [
    "# Convert the all_data_dict to a DataFrame\n",
    "all_result_df = pd.DataFrame.from_dict(all_data_dict, orient='index')\n",
    "\n",
    "# Save the DataFrame to a JSON file\n",
    "all_result_df.to_json('../Output/all_stream_stations.json', orient='index', indent=2)"
   ]
  },
  {
   "cell_type": "code",
   "execution_count": null,
   "id": "9a136ea2-10b8-4062-9865-7bf448a958cb",
   "metadata": {},
   "outputs": [],
   "source": []
  }
 ],
 "metadata": {
  "kernelspec": {
   "display_name": "Python 3 (ipykernel)",
   "language": "python",
   "name": "python3"
  },
  "language_info": {
   "codemirror_mode": {
    "name": "ipython",
    "version": 3
   },
   "file_extension": ".py",
   "mimetype": "text/x-python",
   "name": "python",
   "nbconvert_exporter": "python",
   "pygments_lexer": "ipython3",
   "version": "3.11.3"
  }
 },
 "nbformat": 4,
 "nbformat_minor": 5
}
