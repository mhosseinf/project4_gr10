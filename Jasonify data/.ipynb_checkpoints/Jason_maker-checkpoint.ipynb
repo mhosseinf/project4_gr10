{
 "cells": [
  {
   "cell_type": "code",
   "execution_count": null,
   "id": "bb295dc3-d348-4599-9f83-74de8aedcaa2",
   "metadata": {},
   "outputs": [],
   "source": [
    "from pathlib import Path\n",
    "import pandas as pd\n",
    "import numpy as np\n",
    "import pprint\n",
    "import os"
   ]
  },
  {
   "cell_type": "code",
   "execution_count": null,
   "id": "caff02f6-6b27-4e5b-b818-a4a9db42d3e1",
   "metadata": {},
   "outputs": [],
   "source": [
    "# stations data path\n",
    "file_path = '../Resources/stationslist_with_Routetrip.csv'\n",
    "\n",
    "# Read CSV and convert to stations_df\n",
    "stations_df=pd.read_csv(file_path)\n",
    "\n",
    "# display df\n",
    "stations_df"
   ]
  },
  {
   "cell_type": "code",
   "execution_count": null,
   "id": "6224d6a1-6a67-415e-9c36-7d13665ec5a9",
   "metadata": {},
   "outputs": [],
   "source": [
    "# rain data path\n",
    "file_path = '../Resources/raindata.csv'\n",
    "\n",
    "# Read CSV and convert to rain_df\n",
    "rain_df=pd.read_csv(file_path)\n",
    "\n",
    "# Drop NA value from dataframe\n",
    "rain_df.dropna(subset=['Year', 'Month', 'Day','stationCode','stationName','rainfall','relativeHumidity','airTemperature_avg','wind_avg_speed'], inplace=True)\n",
    "\n",
    "# Convert date into number\n",
    "rain_df['Date'] = pd.to_datetime(rain_df[['Year', 'Month', 'Day']], errors='coerce')\n",
    "\n",
    "# X = rain_df.drop([\"rainfall\",\"stationName\"],axis=1).values\n",
    "rain_df= rain_df.drop([\"Year\",\"Month\",\"Day\"],axis=1)\n",
    "\n",
    "rain_df"
   ]
  },
  {
   "cell_type": "code",
   "execution_count": null,
   "id": "30cd480e-3a41-43df-a0c9-734f5c3ccae4",
   "metadata": {},
   "outputs": [],
   "source": [
    "filtered_row = rain_df[rain_df['stationCode'] == 'AN001']\n",
    "filtered_row"
   ]
  },
  {
   "cell_type": "code",
   "execution_count": null,
   "id": "c5809d02-8f99-478b-aa8d-65e796388a13",
   "metadata": {},
   "outputs": [],
   "source": [
    "all_data_dict = {}\n",
    "for station in stations_df['stationCode']:\n",
    "\n",
    "    # Filter rows based on the 'Site No.' column for the current rain station\n",
    "    filtered_row = stations_df[stations_df['Site No.'] == station]\n",
    "    rain_array = []\n",
    "    date_array = []\n",
    "\n",
    "    # Iterate through the DataFrame and populate the arrays\n",
    "    for i in range(len(filtered_row)):\n",
    "        rain = filtered_row.iloc[i]['rainfall']\n",
    "        date = (filtered_row.iloc[i]['Date']).strftime(\"%Y-%m-%d\")\n",
    "\n",
    "        rain_array.append(rain)\n",
    "        date_array.append(date)\n",
    "\n",
    "    # Create a dictionary with the desired structure for the current rain station\n",
    "    data_dict = {\n",
    "        str(rain_station): {\n",
    "            \"station Code\": stationCode,\n",
    "            \"latitude\": stations_df[stations_df['stationCode'] == station]['latitude'],\n",
    "            \"longitude\": stations_df[stations_df['stationCode'] == station]['longitude'],\n",
    "            \"Route trip\": stations_df[stations_df['stationCode'] == station]['stations_Route_trip'],\n",
    "            \"Date\": date_array,\n",
    "            \"Rain\": rain_array\n",
    "        }\n",
    "    }\n",
    "\n",
    "    # Update the all_data_dict with data for the current rain station\n",
    "    all_data_dict.update(data_dict)"
   ]
  },
  {
   "cell_type": "code",
   "execution_count": null,
   "id": "40330c6e-9e4e-4965-9ac9-03fab61cf357",
   "metadata": {},
   "outputs": [],
   "source": [
    "# Convert the all_data_dict to a DataFrame\n",
    "all_result_df = pd.DataFrame.from_dict(all_data_dict, orient='index')\n",
    "\n",
    "# Save the DataFrame to a JSON file\n",
    "all_result_df.to_json('../Output/all_rain_stations.json', orient='index', indent=2)"
   ]
  },
  {
   "cell_type": "code",
   "execution_count": null,
   "id": "47d6368e-e696-421a-b977-283bd6154361",
   "metadata": {},
   "outputs": [],
   "source": [
    "# Convert the all_data_dict to a DataFrame\n",
    "all_result_df = pd.DataFrame.from_dict(all_data_dict, orient='index')\n",
    "\n",
    "# Save the DataFrame to a JSON file\n",
    "all_result_df.to_json('../Output/all_stream_stations.json', orient='index', indent=2)"
   ]
  },
  {
   "cell_type": "code",
   "execution_count": null,
   "id": "9a136ea2-10b8-4062-9865-7bf448a958cb",
   "metadata": {},
   "outputs": [],
   "source": []
  }
 ],
 "metadata": {
  "kernelspec": {
   "display_name": "Python 3 (ipykernel)",
   "language": "python",
   "name": "python3"
  },
  "language_info": {
   "codemirror_mode": {
    "name": "ipython",
    "version": 3
   },
   "file_extension": ".py",
   "mimetype": "text/x-python",
   "name": "python",
   "nbconvert_exporter": "python",
   "pygments_lexer": "ipython3",
   "version": "3.11.3"
  }
 },
 "nbformat": 4,
 "nbformat_minor": 5
}
