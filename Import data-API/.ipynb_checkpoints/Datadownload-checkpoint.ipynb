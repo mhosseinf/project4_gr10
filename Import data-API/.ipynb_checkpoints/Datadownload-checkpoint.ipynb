{
 "cells": [
  {
   "cell_type": "code",
   "execution_count": null,
   "id": "b9dc80ae-fefb-4d19-8a6e-d0047e538ebd",
   "metadata": {},
   "outputs": [],
   "source": [
    "import pandas as pd\n",
    "import requests\n",
    "from pandas import json_normalize\n",
    "from pathlib import Path\n",
    "from api_key import api_key"
   ]
  },
  {
   "cell_type": "code",
   "execution_count": null,
   "id": "7751f1fc-7b0f-4f4d-9bf7-304a63caf617",
   "metadata": {},
   "outputs": [],
   "source": [
    "# Set the API base URL\n",
    "url = \"https://api.dpird.wa.gov.au/v2/weather/stations??offset=0&limit=225&group=all\"\n",
    "# Headers with API key\n",
    "headers = {\n",
    "    \"api_key\": api_key\n",
    "}"
   ]
  },
  {
   "cell_type": "code",
   "execution_count": null,
   "id": "e8166f31-c1b1-487b-a4dc-ba54a408d5d6",
   "metadata": {},
   "outputs": [],
   "source": [
    "# Parse the JSON and retrieve data\n",
    "response = requests.get(url,headers=headers)\n",
    "all_stations_data = response.json()"
   ]
  },
  {
   "cell_type": "code",
   "execution_count": null,
   "id": "eeaf5ce6-0917-4642-b6f9-b4b036544177",
   "metadata": {},
   "outputs": [],
   "source": [
    "#convert the data to a DataFrame using pandas\n",
    "weather_stations = all_stations_data['collection']\n",
    "df = pd.DataFrame(weather_stations)\n",
    "\n",
    "# Flatten nested 'capabilities'columns\n",
    "df = pd.concat([df.drop(['capabilities'], axis=1), json_normalize(df['capabilities'])], axis=1)\n",
    "\n",
    "# Drop rows with NA values in specific columns\n",
    "df_cleaned = df.dropna(subset=['stationCode','stationName','latitude','longitude'], inplace=True)\n",
    "\n",
    "df"
   ]
  },
  {
   "cell_type": "code",
   "execution_count": null,
   "id": "9f97735b-4f71-4586-a986-d0890de379fe",
   "metadata": {},
   "outputs": [],
   "source": [
    "df.to_csv(\"../Resources/stationslist.csv\")"
   ]
  },
  {
   "cell_type": "code",
   "execution_count": null,
   "id": "c65302ba-dd21-42ff-9e27-6cf255066373",
   "metadata": {},
   "outputs": [],
   "source": [
    "# extract'stationCode' to be used for the next API\n",
    "station_code_list = df['stationCode'].tolist()"
   ]
  },
  {
   "cell_type": "code",
   "execution_count": null,
   "id": "315cb6a2-9d75-444a-b083-7fe502417bee",
   "metadata": {},
   "outputs": [],
   "source": [
    "# Set the API base URL\n",
    "url = \"https://api.dpird.wa.gov.au/v2/weather/stations/summaries/daily?\"\n",
    "# Headers with API key\n",
    "headers = {\n",
    "    \"api_key\": api_key\n",
    "}"
   ]
  },
  {
   "cell_type": "code",
   "execution_count": null,
   "id": "115d9b36-1dc2-42bc-927d-31c68ed9ec26",
   "metadata": {},
   "outputs": [],
   "source": [
    "# Initialize an empty list to store the data for all stations\n",
    "all_stations_data = []\n",
    "\n",
    "# Iterate through each station\n",
    "for station in station_code_list:\n",
    "    # Parameters for the specific station\n",
    "    params = {\n",
    "        \"endDate\": \"2023-12-29\",\n",
    "        \"group\": \"api\",\n",
    "        \"includeClosed\": \"false\",\n",
    "        \"limit\": 225,\n",
    "        \"offset\": 0,\n",
    "        \"startDate\": \"2023-01-01\",\n",
    "        \"stationCode\": station\n",
    "    }\n",
    "\n",
    "    # Make the request for each station\n",
    "    response = requests.get(url, params=params, headers=headers)\n",
    "    data = response.json()\n",
    "\n",
    "    # Check if the 'collection' list is non-empty and has summaries\n",
    "    if \"collection\" in data and data[\"collection\"]:\n",
    "        # Extract relevant information for each summary\n",
    "        for summary in data[\"collection\"][0][\"summaries\"]:\n",
    "            try:\n",
    "                station_info = {\n",
    "                    \"Year\": summary['period']['year'],\n",
    "                    \"Month\":summary['period']['month'],\n",
    "                    \"Day\":summary['period']['day'],\n",
    "                    \"stationCode\": data[\"collection\"][0][\"stationCode\"],\n",
    "                    \"stationName\": data[\"collection\"][0][\"stationName\"],\n",
    "                    \"rainfall\": summary[\"rainfall\"],\n",
    "                    \"relativeHumidity\": summary[\"relativeHumidity\"][\"avg\"],\n",
    "                    \"airTemperature_avg\": summary[\"airTemperature\"][\"avg\"],\n",
    "                    \"wind_avg_speed\": summary[\"wind\"][0][\"avg\"][\"speed\"]\n",
    "                }\n",
    "\n",
    "                # Append the information for the current station and summary to the list\n",
    "                all_stations_data.append(station_info)\n",
    "                \n",
    "            except:\n",
    "                station_info = {\n",
    "                    \"Year\": \"N/A\",\n",
    "                    \"Month\":\"N/A\",\n",
    "                    \"Day\":\"N/A\",\n",
    "                    \"stationCode\": \"N/A\",\n",
    "                    \"stationName\": \"N/A\",\n",
    "                    \"rainfall\": \"N/A\",\n",
    "                    \"relativeHumidity\": \"N/A\",\n",
    "                    \"airTemperature_avg\": \"N/A\",\n",
    "                    \"wind_avg_speed\": \"N/A\"\n",
    "                }\n",
    "\n",
    "                # Append the information for the current station and summary to the list\n",
    "                all_stations_data.append(station_info)"
   ]
  },
  {
   "cell_type": "code",
   "execution_count": null,
   "id": "f5ee5061-86a9-422a-b226-2e515579324b",
   "metadata": {},
   "outputs": [],
   "source": [
    "# Convert the list of dictionaries into a DataFrame\n",
    "all_stations = pd.DataFrame(all_stations_data)\n",
    "\n",
    "# Drop NA value from dataframe\n",
    "all_stations.dropna(subset=['Year', 'Month', 'Day','stationCode','stationName','rainfall','relativeHumidity','airTemperature_avg','wind_avg_speed'], inplace=True)\n",
    "\n",
    "# Display dataframe\n",
    "all_stations.head()"
   ]
  },
  {
   "cell_type": "code",
   "execution_count": null,
   "id": "8721df42-b231-4aed-8659-3dc96e0c8238",
   "metadata": {},
   "outputs": [],
   "source": [
    "all_stations.to_csv(\"../Resources/raindata.csv\", index=False)"
   ]
  },
  {
   "cell_type": "code",
   "execution_count": null,
   "id": "67b07c21-1f22-4416-93ff-9a975681b1bf",
   "metadata": {},
   "outputs": [],
   "source": []
  }
 ],
 "metadata": {
  "kernelspec": {
   "display_name": "Python 3 (ipykernel)",
   "language": "python",
   "name": "python3"
  },
  "language_info": {
   "codemirror_mode": {
    "name": "ipython",
    "version": 3
   },
   "file_extension": ".py",
   "mimetype": "text/x-python",
   "name": "python",
   "nbconvert_exporter": "python",
   "pygments_lexer": "ipython3",
   "version": "3.11.3"
  }
 },
 "nbformat": 4,
 "nbformat_minor": 5
}
